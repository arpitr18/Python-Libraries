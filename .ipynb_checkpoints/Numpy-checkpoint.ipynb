{
 "cells": [
  {
   "cell_type": "markdown",
   "id": "35adc97f-4e21-4143-9356-3c78ba16ab38",
   "metadata": {},
   "source": [
    "## Numpy"
   ]
  },
  {
   "cell_type": "code",
   "execution_count": 1,
   "id": "a3000219-af38-44b4-a4d9-5e6ffeb61161",
   "metadata": {},
   "outputs": [],
   "source": [
    "import numpy as np\n",
    "import pandas as pd"
   ]
  },
  {
   "cell_type": "code",
   "execution_count": 2,
   "id": "73230e31-6c58-428b-a731-a519ad9fa2ed",
   "metadata": {},
   "outputs": [
    {
     "name": "stdout",
     "output_type": "stream",
     "text": [
      "Hello Arpit\n"
     ]
    }
   ],
   "source": [
    "print(\"Hello Arpit\")"
   ]
  },
  {
   "cell_type": "code",
   "execution_count": 3,
   "id": "17fde187-3f18-45dd-a7ac-cba40d1bb35c",
   "metadata": {},
   "outputs": [
    {
     "data": {
      "text/plain": [
       "array([1, 2, 3, 4, 5])"
      ]
     },
     "execution_count": 3,
     "metadata": {},
     "output_type": "execute_result"
    }
   ],
   "source": [
    "np.array([1,2,3,4,5])"
   ]
  },
  {
   "cell_type": "code",
   "execution_count": 16,
   "id": "85effc4f-4638-4755-a880-3ad44f43f3cd",
   "metadata": {
    "scrolled": true
   },
   "outputs": [
    {
     "data": {
      "text/plain": [
       "array([[1, 2, 3],\n",
       "       [4, 5, 6],\n",
       "       [7, 8, 9]])"
      ]
     },
     "execution_count": 16,
     "metadata": {},
     "output_type": "execute_result"
    }
   ],
   "source": [
    "L2d = [[1,2,3],[4,5,6],[7,8,9]]\n",
    "arr = np.array(L2d)\n",
    "arr"
   ]
  },
  {
   "cell_type": "markdown",
   "id": "1e652c64-26af-40f2-9ff6-157fc9dc4204",
   "metadata": {},
   "source": [
    "### Array Generating Functions"
   ]
  },
  {
   "cell_type": "code",
   "execution_count": 6,
   "id": "93218b35-c59f-4721-be77-be9fd459b49b",
   "metadata": {},
   "outputs": [
    {
     "data": {
      "text/plain": [
       "array([ 1,  2,  3,  4,  5,  6,  7,  8,  9, 10])"
      ]
     },
     "execution_count": 6,
     "metadata": {},
     "output_type": "execute_result"
    }
   ],
   "source": [
    "np.arange(1,11)"
   ]
  },
  {
   "cell_type": "code",
   "execution_count": 7,
   "id": "c3ceb066-dc46-4453-9dad-f2852801fd75",
   "metadata": {},
   "outputs": [
    {
     "data": {
      "text/plain": [
       "array([0., 0., 0., 0., 0., 0.])"
      ]
     },
     "execution_count": 7,
     "metadata": {},
     "output_type": "execute_result"
    }
   ],
   "source": [
    "np.zeros(6)"
   ]
  },
  {
   "cell_type": "code",
   "execution_count": 8,
   "id": "de0c4c64-3777-424f-88b0-134f292c3e33",
   "metadata": {},
   "outputs": [
    {
     "data": {
      "text/plain": [
       "array([[0., 0., 0., 0., 0., 0.],\n",
       "       [0., 0., 0., 0., 0., 0.],\n",
       "       [0., 0., 0., 0., 0., 0.],\n",
       "       [0., 0., 0., 0., 0., 0.],\n",
       "       [0., 0., 0., 0., 0., 0.],\n",
       "       [0., 0., 0., 0., 0., 0.]])"
      ]
     },
     "execution_count": 8,
     "metadata": {},
     "output_type": "execute_result"
    }
   ],
   "source": [
    "np.zeros((6,6))"
   ]
  },
  {
   "cell_type": "code",
   "execution_count": 9,
   "id": "1155b07d-0aa5-4c3b-a3ff-60f2e9ad416a",
   "metadata": {},
   "outputs": [
    {
     "data": {
      "text/plain": [
       "array([[1., 1., 1., 1.],\n",
       "       [1., 1., 1., 1.],\n",
       "       [1., 1., 1., 1.]])"
      ]
     },
     "execution_count": 9,
     "metadata": {},
     "output_type": "execute_result"
    }
   ],
   "source": [
    "np.ones((3,4))"
   ]
  },
  {
   "cell_type": "code",
   "execution_count": 11,
   "id": "8a9788d6-3d1d-4c55-820e-d8a4eaa7a9a1",
   "metadata": {},
   "outputs": [
    {
     "data": {
      "text/plain": [
       "array([ 1.,  4.,  7., 10.])"
      ]
     },
     "execution_count": 11,
     "metadata": {},
     "output_type": "execute_result"
    }
   ],
   "source": [
    "## Linspace - Linear Spacing\n",
    "np.linspace(1,10,4)"
   ]
  },
  {
   "cell_type": "markdown",
   "id": "033a5d30-43e2-42e5-a540-8c6a1194ef85",
   "metadata": {},
   "source": [
    "### Random Generation Functions"
   ]
  },
  {
   "cell_type": "code",
   "execution_count": 12,
   "id": "8ec1027b-e8d0-4af3-9d76-bd01de624e52",
   "metadata": {},
   "outputs": [
    {
     "data": {
      "text/plain": [
       "array([0.41206735, 0.25344835, 0.39064317, 0.90977502, 0.80414244])"
      ]
     },
     "execution_count": 12,
     "metadata": {},
     "output_type": "execute_result"
    }
   ],
   "source": [
    "np.random.rand(5) # this give normalized values , that is between 0 and 1"
   ]
  },
  {
   "cell_type": "code",
   "execution_count": 13,
   "id": "cf47542b-a22a-44f5-bafa-5b273b76943a",
   "metadata": {},
   "outputs": [
    {
     "data": {
      "text/plain": [
       "array([-1.61639086,  1.17973954,  0.69812292, -0.06607501,  0.55352718,\n",
       "       -1.34422896,  0.87669106,  0.01162612, -0.49112373, -0.55306618])"
      ]
     },
     "execution_count": 13,
     "metadata": {},
     "output_type": "execute_result"
    }
   ],
   "source": [
    "np.random.randn(10) # this gives standarized values , that is between 3 and -3"
   ]
  },
  {
   "cell_type": "code",
   "execution_count": 14,
   "id": "54f2c0c3-943d-455f-8e50-effe0431da63",
   "metadata": {},
   "outputs": [
    {
     "data": {
      "text/plain": [
       "array([15, 12, 19, 16, 14, 14, 16, 16, 15, 12], dtype=int32)"
      ]
     },
     "execution_count": 14,
     "metadata": {},
     "output_type": "execute_result"
    }
   ],
   "source": [
    "np.random.randint(10,20,10)"
   ]
  },
  {
   "cell_type": "markdown",
   "id": "89012a3b-f885-45f8-8f8e-0f60839b9e43",
   "metadata": {},
   "source": [
    "### Array Attributes"
   ]
  },
  {
   "cell_type": "raw",
   "id": "3733577e-3ecf-454f-a20f-c6d42b3d9856",
   "metadata": {},
   "source": [
    "go to 2D array above - after line 3 , exection number 16"
   ]
  },
  {
   "cell_type": "code",
   "execution_count": 17,
   "id": "a45a03a9-cf09-4f7e-9e58-afa9f33c275d",
   "metadata": {},
   "outputs": [
    {
     "data": {
      "text/plain": [
       "(3, 3)"
      ]
     },
     "execution_count": 17,
     "metadata": {},
     "output_type": "execute_result"
    }
   ],
   "source": [
    "arr.shape "
   ]
  },
  {
   "cell_type": "code",
   "execution_count": 18,
   "id": "5043859d-2c99-4a9a-93f7-735484ead6ca",
   "metadata": {},
   "outputs": [
    {
     "data": {
      "text/plain": [
       "9"
      ]
     },
     "execution_count": 18,
     "metadata": {},
     "output_type": "execute_result"
    }
   ],
   "source": [
    "arr.size"
   ]
  },
  {
   "cell_type": "code",
   "execution_count": 19,
   "id": "6b85df83-0040-4119-bcb2-94bce67e1c12",
   "metadata": {},
   "outputs": [
    {
     "data": {
      "text/plain": [
       "dtype('int64')"
      ]
     },
     "execution_count": 19,
     "metadata": {},
     "output_type": "execute_result"
    }
   ],
   "source": [
    "arr.dtype"
   ]
  },
  {
   "cell_type": "markdown",
   "id": "99e5811b-f6d1-409c-be28-eaa812662bc0",
   "metadata": {},
   "source": [
    "### Array methods"
   ]
  },
  {
   "cell_type": "code",
   "execution_count": 20,
   "id": "1e41bb28-4f87-4292-ac61-566e05bc65b2",
   "metadata": {},
   "outputs": [
    {
     "data": {
      "text/plain": [
       "np.int64(1)"
      ]
     },
     "execution_count": 20,
     "metadata": {},
     "output_type": "execute_result"
    }
   ],
   "source": [
    "arr.min()"
   ]
  },
  {
   "cell_type": "code",
   "execution_count": 22,
   "id": "dd84e3bf-3f14-416d-b758-f1b9f7b430ae",
   "metadata": {},
   "outputs": [
    {
     "data": {
      "text/plain": [
       "np.int64(45)"
      ]
     },
     "execution_count": 22,
     "metadata": {},
     "output_type": "execute_result"
    }
   ],
   "source": [
    "arr.sum()"
   ]
  },
  {
   "cell_type": "code",
   "execution_count": 23,
   "id": "f93880ac-cf39-4fa7-9810-12908f4859cf",
   "metadata": {},
   "outputs": [
    {
     "data": {
      "text/plain": [
       "np.int64(9)"
      ]
     },
     "execution_count": 23,
     "metadata": {},
     "output_type": "execute_result"
    }
   ],
   "source": [
    "arr.max()"
   ]
  },
  {
   "cell_type": "code",
   "execution_count": 25,
   "id": "cc6616c1-a23b-4065-9709-f601431f1c75",
   "metadata": {},
   "outputs": [
    {
     "data": {
      "text/plain": [
       "array([12, 15, 18])"
      ]
     },
     "execution_count": 25,
     "metadata": {},
     "output_type": "execute_result"
    }
   ],
   "source": [
    "np.sum(arr,axis=0) \n",
    "# 0 axis means y axis top to down\n",
    "# 1 axis means x axis left to right"
   ]
  },
  {
   "cell_type": "code",
   "execution_count": 26,
   "id": "d79e9160-5833-47ff-8783-fbff5922c7fa",
   "metadata": {},
   "outputs": [
    {
     "data": {
      "text/plain": [
       "np.float64(5.0)"
      ]
     },
     "execution_count": 26,
     "metadata": {},
     "output_type": "execute_result"
    }
   ],
   "source": [
    "arr.mean()"
   ]
  },
  {
   "cell_type": "code",
   "execution_count": 27,
   "id": "02d9c523-1ac0-4364-8043-b485de4ee328",
   "metadata": {},
   "outputs": [
    {
     "data": {
      "text/plain": [
       "np.float64(2.581988897471611)"
      ]
     },
     "execution_count": 27,
     "metadata": {},
     "output_type": "execute_result"
    }
   ],
   "source": [
    "arr.std() # standard deviation"
   ]
  },
  {
   "cell_type": "code",
   "execution_count": 29,
   "id": "7685ee84-207f-4399-a11d-66dd27d47912",
   "metadata": {},
   "outputs": [
    {
     "data": {
      "text/plain": [
       "np.int64(8)"
      ]
     },
     "execution_count": 29,
     "metadata": {},
     "output_type": "execute_result"
    }
   ],
   "source": [
    "arr.argmax() # gives the index of maximum element"
   ]
  },
  {
   "cell_type": "code",
   "execution_count": 30,
   "id": "e64142fa-399e-4d38-84c8-ab12a0a49726",
   "metadata": {},
   "outputs": [
    {
     "data": {
      "text/plain": [
       "np.int64(0)"
      ]
     },
     "execution_count": 30,
     "metadata": {},
     "output_type": "execute_result"
    }
   ],
   "source": [
    "arr.argmin() # gives the index of minimum elemt"
   ]
  },
  {
   "cell_type": "markdown",
   "id": "23a27c9d-6c47-46e0-b39c-09db073a5171",
   "metadata": {},
   "source": [
    "### Reshaping"
   ]
  },
  {
   "cell_type": "code",
   "execution_count": 32,
   "id": "88c43458-264d-458d-8275-3f6763dccca5",
   "metadata": {},
   "outputs": [
    {
     "data": {
      "text/plain": [
       "array([ 1,  2,  3,  4,  5,  6,  7,  8,  9, 10, 11, 12, 13, 14, 15, 16, 17,\n",
       "       18, 19, 20, 21, 22, 23, 24, 25, 26, 27, 28, 29, 30])"
      ]
     },
     "execution_count": 32,
     "metadata": {},
     "output_type": "execute_result"
    }
   ],
   "source": [
    "arr2 = np.arange(1,31)\n",
    "arr2"
   ]
  },
  {
   "cell_type": "code",
   "execution_count": 33,
   "id": "07c9fdfe-6953-4425-b38b-2defa00ee95b",
   "metadata": {},
   "outputs": [
    {
     "data": {
      "text/plain": [
       "array([[ 1,  2,  3,  4,  5],\n",
       "       [ 6,  7,  8,  9, 10],\n",
       "       [11, 12, 13, 14, 15],\n",
       "       [16, 17, 18, 19, 20],\n",
       "       [21, 22, 23, 24, 25],\n",
       "       [26, 27, 28, 29, 30]])"
      ]
     },
     "execution_count": 33,
     "metadata": {},
     "output_type": "execute_result"
    }
   ],
   "source": [
    "arr2.reshape(6,5) # agar 5,5 dete toh it would be 25 elements , then it would cause error , so number of elements should match"
   ]
  },
  {
   "cell_type": "markdown",
   "id": "e91f737e-2f98-4a3e-a2f2-f1246e432081",
   "metadata": {},
   "source": [
    "### Indexing and Slicing of Vector"
   ]
  },
  {
   "cell_type": "raw",
   "id": "548d0697-4ffe-4a03-8950-cb2f11d1d418",
   "metadata": {},
   "source": [
    "What is Vectors ? Vectors are nothing but 1 dimensional objects in python {fancy names - aalo, potato, batate - same same}"
   ]
  },
  {
   "cell_type": "code",
   "execution_count": 34,
   "id": "e4776f27-3261-4c1a-ba62-65e7d5b2f9d4",
   "metadata": {},
   "outputs": [
    {
     "data": {
      "text/plain": [
       "array([11, 12, 13, 14, 15, 16, 17, 18, 19, 20])"
      ]
     },
     "execution_count": 34,
     "metadata": {},
     "output_type": "execute_result"
    }
   ],
   "source": [
    "arr = np.arange(11,21)\n",
    "arr"
   ]
  },
  {
   "cell_type": "code",
   "execution_count": 35,
   "id": "d6e80faa-6ed9-4880-b2ea-df951cc2aa26",
   "metadata": {},
   "outputs": [
    {
     "data": {
      "text/plain": [
       "np.int64(17)"
      ]
     },
     "execution_count": 35,
     "metadata": {},
     "output_type": "execute_result"
    }
   ],
   "source": [
    "arr[6] # 6th index , firse bol raha hoon 6th index and not 6th number , index counting starts with 0 , 6th index = 17 "
   ]
  },
  {
   "cell_type": "code",
   "execution_count": 36,
   "id": "37db92bf-1d1e-4c5f-99ba-c81322608aff",
   "metadata": {},
   "outputs": [
    {
     "data": {
      "text/plain": [
       "array([12, 13, 14, 15])"
      ]
     },
     "execution_count": 36,
     "metadata": {},
     "output_type": "execute_result"
    }
   ],
   "source": [
    "arr[1:5] # 1 to 5 means index number 1 se 4 tak only , last wale se ek kam tak"
   ]
  },
  {
   "cell_type": "code",
   "execution_count": 37,
   "id": "57a3dd4d-2a5d-476d-be9a-3858f0a9c35a",
   "metadata": {},
   "outputs": [
    {
     "data": {
      "text/plain": [
       "array([11, 12, 13, 14, 15])"
      ]
     },
     "execution_count": 37,
     "metadata": {},
     "output_type": "execute_result"
    }
   ],
   "source": [
    "arr[:5] # first value by default 0 hoga"
   ]
  },
  {
   "cell_type": "code",
   "execution_count": 38,
   "id": "5154c49d-566d-4813-bc98-068c3817a33d",
   "metadata": {},
   "outputs": [
    {
     "data": {
      "text/plain": [
       "array([14, 15, 16, 17, 18, 19, 20])"
      ]
     },
     "execution_count": 38,
     "metadata": {},
     "output_type": "execute_result"
    }
   ],
   "source": [
    "arr[3:] # last value by default last index tak"
   ]
  },
  {
   "cell_type": "code",
   "execution_count": 39,
   "id": "569a28a9-1774-4eee-af11-b664b73f670b",
   "metadata": {},
   "outputs": [
    {
     "data": {
      "text/plain": [
       "array([11, 12, 13, 14, 15, 16, 17, 18, 19, 20])"
      ]
     },
     "execution_count": 39,
     "metadata": {},
     "output_type": "execute_result"
    }
   ],
   "source": [
    "arr[:] # this means whole array"
   ]
  },
  {
   "cell_type": "code",
   "execution_count": 40,
   "id": "7aaa30d8-0402-4442-97ea-06aa9322b609",
   "metadata": {},
   "outputs": [
    {
     "data": {
      "text/plain": [
       "array([11, 13, 15, 17, 19])"
      ]
     },
     "execution_count": 40,
     "metadata": {},
     "output_type": "execute_result"
    }
   ],
   "source": [
    "arr[::2] # third parameter is step value , here 2 indicates means 2-2 values chhodke "
   ]
  },
  {
   "cell_type": "code",
   "execution_count": 41,
   "id": "0981dec1-3c56-4de8-bc6c-ec09a715d6db",
   "metadata": {},
   "outputs": [
    {
     "data": {
      "text/plain": [
       "array([11, 14, 17, 20])"
      ]
     },
     "execution_count": 41,
     "metadata": {},
     "output_type": "execute_result"
    }
   ],
   "source": [
    "arr[::3] # 3-3 values chhodke"
   ]
  },
  {
   "cell_type": "markdown",
   "id": "034d6da7-964b-41e6-aafc-35bbd5322079",
   "metadata": {},
   "source": [
    "### Slicing and Indexing in a Matrix - 2D - 2Dimensional"
   ]
  },
  {
   "cell_type": "code",
   "execution_count": 44,
   "id": "25467e66-cc44-4beb-a4c3-f53972fbf133",
   "metadata": {},
   "outputs": [
    {
     "data": {
      "text/plain": [
       "array([[ 1,  2,  3,  4,  5],\n",
       "       [ 6,  7,  8,  9, 10],\n",
       "       [11, 12, 13, 14, 15],\n",
       "       [16, 17, 18, 19, 20],\n",
       "       [21, 22, 23, 24, 25],\n",
       "       [26, 27, 28, 29, 30]])"
      ]
     },
     "execution_count": 44,
     "metadata": {},
     "output_type": "execute_result"
    }
   ],
   "source": [
    "arr =np.arange(1,31).reshape(6,5)\n",
    "arr"
   ]
  },
  {
   "cell_type": "code",
   "execution_count": 45,
   "id": "690c61f9-5b79-4e1f-87a1-314f67f64ec1",
   "metadata": {},
   "outputs": [
    {
     "data": {
      "text/plain": [
       "array([1, 2, 3, 4, 5])"
      ]
     },
     "execution_count": 45,
     "metadata": {},
     "output_type": "execute_result"
    }
   ],
   "source": [
    "arr[0] # this is give element at 0 index but 2D matrix mein 0 index pe ek array hai , toh it will return 1st row"
   ]
  },
  {
   "cell_type": "code",
   "execution_count": 47,
   "id": "1579e8ca-30f7-4545-806f-1181476c155d",
   "metadata": {},
   "outputs": [
    {
     "data": {
      "text/plain": [
       "array([16, 17, 18, 19, 20])"
      ]
     },
     "execution_count": 47,
     "metadata": {},
     "output_type": "execute_result"
    }
   ],
   "source": [
    "arr[3] # third index , means 4th row"
   ]
  },
  {
   "cell_type": "code",
   "execution_count": 48,
   "id": "36f763a0-8b7e-4c79-9ebc-9123ba6ed0a8",
   "metadata": {},
   "outputs": [
    {
     "data": {
      "text/plain": [
       "np.int64(1)"
      ]
     },
     "execution_count": 48,
     "metadata": {},
     "output_type": "execute_result"
    }
   ],
   "source": [
    "# now to get first element of the first row\n",
    "arr[0,0]\n",
    "# java ki tarah arr[0][0] mat kar dena 🙏"
   ]
  },
  {
   "cell_type": "code",
   "execution_count": 49,
   "id": "8afb0b26-cf22-4ecf-b66a-7c50743846ed",
   "metadata": {},
   "outputs": [
    {
     "data": {
      "text/plain": [
       "np.int64(30)"
      ]
     },
     "execution_count": 49,
     "metadata": {},
     "output_type": "execute_result"
    }
   ],
   "source": [
    "arr[5,4] # 5th index means 6th row and 4th index means 5th colum , toh last row ka last column = 30"
   ]
  },
  {
   "cell_type": "code",
   "execution_count": 50,
   "id": "bd029431-88f4-436b-905b-5ffb6f32c584",
   "metadata": {},
   "outputs": [
    {
     "data": {
      "text/plain": [
       "array([[2, 3],\n",
       "       [7, 8]])"
      ]
     },
     "execution_count": 50,
     "metadata": {},
     "output_type": "execute_result"
    }
   ],
   "source": [
    "# ab agar mujhe matrix mein se 2,3 and 7,8 wala matrix slice out karna hai toh \n",
    "arr[0:2,1:3] \n",
    "# comma se pehle wala will slice out row and comma ke baad wala will slice out column"
   ]
  },
  {
   "cell_type": "code",
   "execution_count": null,
   "id": "b7b95302-98dc-47bb-8a96-ac771521928c",
   "metadata": {},
   "outputs": [],
   "source": [
    "arr[3:,3:] # iska output khud se socho kya hoga"
   ]
  },
  {
   "cell_type": "code",
   "execution_count": 55,
   "id": "724d4dac-5c92-40cf-a5e6-ae9b222c81a3",
   "metadata": {},
   "outputs": [
    {
     "data": {
      "text/plain": [
       "array([ 3,  8, 13, 18, 23, 28])"
      ]
     },
     "execution_count": 55,
     "metadata": {},
     "output_type": "execute_result"
    }
   ],
   "source": [
    "# if you want 3 column only - toh kaise karenge , thoda socho\n",
    "arr[:,2]\n",
    "# third column pura chahiye means third column ke saare rows chahiye toh humne bas : use kiya and for 3rd column index 2 "
   ]
  },
  {
   "cell_type": "markdown",
   "id": "fe132729-fddc-4df8-839e-6862d1bc82d6",
   "metadata": {},
   "source": [
    "### Boolean indexing"
   ]
  },
  {
   "cell_type": "code",
   "execution_count": 60,
   "id": "ee3ccca8-e33e-4d53-b672-ee96235f1dba",
   "metadata": {},
   "outputs": [
    {
     "data": {
      "text/plain": [
       "array([11, 12, 13, 14, 15, 16, 17, 18, 19, 20])"
      ]
     },
     "execution_count": 60,
     "metadata": {},
     "output_type": "execute_result"
    }
   ],
   "source": [
    "arr = np.arange(11,21)\n",
    "arr"
   ]
  },
  {
   "cell_type": "code",
   "execution_count": 58,
   "id": "295a7f90-5f52-4b7e-b738-6371bc3c765e",
   "metadata": {},
   "outputs": [
    {
     "data": {
      "text/plain": [
       "array([False,  True, False,  True, False,  True, False,  True, False,\n",
       "        True])"
      ]
     },
     "execution_count": 58,
     "metadata": {},
     "output_type": "execute_result"
    }
   ],
   "source": [
    "bool_index = arr%2==0\n",
    "bool_index"
   ]
  },
  {
   "cell_type": "code",
   "execution_count": 61,
   "id": "0ecbba61-ea77-4f4a-b59e-f3034c700e33",
   "metadata": {},
   "outputs": [
    {
     "data": {
      "text/plain": [
       "array([12, 14, 16, 18, 20])"
      ]
     },
     "execution_count": 61,
     "metadata": {},
     "output_type": "execute_result"
    }
   ],
   "source": [
    "arr = arr[bool_index]\n",
    "arr\n",
    "# this means true and false condition ke basis pe agar kuchh slice out ya operations perform karna hai toh boolean indexing\n",
    "# true wale elements accept ho jaayenge and false wale reject \n",
    "# humne example mein new array mein sirf even values rakhe hai "
   ]
  },
  {
   "cell_type": "markdown",
   "id": "e942d4fc-b11c-429b-a693-9af2a24bc948",
   "metadata": {},
   "source": [
    "### Array Operations"
   ]
  },
  {
   "cell_type": "code",
   "execution_count": 63,
   "id": "af47ceda-9cc6-49cc-978c-af95712b63bb",
   "metadata": {},
   "outputs": [
    {
     "data": {
      "text/plain": [
       "(array([1, 2, 3, 4, 5]), array([ 6,  7,  8,  9, 10]))"
      ]
     },
     "execution_count": 63,
     "metadata": {},
     "output_type": "execute_result"
    }
   ],
   "source": [
    "a1 = np.array([1,2,3,4,5])\n",
    "a2 = np.array([6,7,8,9,10])\n",
    "a1,a2 # number of elements are same"
   ]
  },
  {
   "cell_type": "code",
   "execution_count": 67,
   "id": "9b678c97-6c89-4d82-bbf3-841704360674",
   "metadata": {},
   "outputs": [
    {
     "name": "stdout",
     "output_type": "stream",
     "text": [
      "[ 7  9 11 13 15]\n",
      "[-5 -5 -5 -5 -5]\n",
      "[ 6 14 24 36 50]\n",
      "[      1     128    6561  262144 9765625]\n"
     ]
    }
   ],
   "source": [
    "print(a1 + a2) # column wise sab add kar diya - very easy\n",
    "print(a1-a2)\n",
    "print(a1*a2)\n",
    "print(a1**a2) # this is exponention operator , 1 ki power 6 , 2 ki power 7 , 3 ki power 8"
   ]
  },
  {
   "cell_type": "markdown",
   "id": "ddc3a483-0c72-4bf6-a850-81418424d2be",
   "metadata": {},
   "source": [
    "### Broadcasting"
   ]
  },
  {
   "cell_type": "code",
   "execution_count": 72,
   "id": "0933c08c-4b78-4cf1-8dcb-c3e6c35b5d90",
   "metadata": {},
   "outputs": [
    {
     "data": {
      "text/plain": [
       "array([10, 20, 30, 40])"
      ]
     },
     "execution_count": 72,
     "metadata": {},
     "output_type": "execute_result"
    }
   ],
   "source": [
    "l = [10,20,30,40] \n",
    "arr = np.arange(10,41,10) # alternative syntax is np.arrange(l)\n",
    "arr # 10,20,30,40"
   ]
  },
  {
   "cell_type": "code",
   "execution_count": 73,
   "id": "39e51aad-96d3-4ae1-96df-e757dabe8c5e",
   "metadata": {},
   "outputs": [
    {
     "name": "stdout",
     "output_type": "stream",
     "text": [
      "20\n",
      "30\n",
      "40\n",
      "50\n"
     ]
    }
   ],
   "source": [
    "for i in l: \n",
    "    print(i+10) # add 10 elements in each item"
   ]
  },
  {
   "cell_type": "code",
   "execution_count": 74,
   "id": "aa01aecc-bd94-4d8e-8e40-75ca0b47ccf8",
   "metadata": {},
   "outputs": [
    {
     "data": {
      "text/plain": [
       "array([20, 30, 40, 50])"
      ]
     },
     "execution_count": 74,
     "metadata": {},
     "output_type": "execute_result"
    }
   ],
   "source": [
    "arr + 10 # very easy syntax na , upar mein humne list data structure use kiya but to add 10 to every item in list is lamba process\n",
    "# so we convert into array and do very simple task , issi ko broadcasting bolte hai , doing any arithmetic operation on array"
   ]
  },
  {
   "cell_type": "markdown",
   "id": "e607c119-feac-4e7e-891d-654c2d497fa2",
   "metadata": {},
   "source": [
    "### Deep vs Shallow Copy"
   ]
  },
  {
   "cell_type": "code",
   "execution_count": 75,
   "id": "3fbf5ff2-a2c2-4225-ad3b-e83be1a90528",
   "metadata": {},
   "outputs": [
    {
     "data": {
      "text/plain": [
       "array([ 1,  2,  3,  4,  5,  6,  7,  8,  9, 10, 11, 12, 13, 14, 15, 16, 17,\n",
       "       18, 19, 20])"
      ]
     },
     "execution_count": 75,
     "metadata": {},
     "output_type": "execute_result"
    }
   ],
   "source": [
    "a = np.arange(1,21)\n",
    "a"
   ]
  },
  {
   "cell_type": "code",
   "execution_count": 76,
   "id": "5c0acd15-f07a-48e0-ba00-fb2f718738c6",
   "metadata": {},
   "outputs": [
    {
     "data": {
      "text/plain": [
       "array([1, 2, 3, 4, 5])"
      ]
     },
     "execution_count": 76,
     "metadata": {},
     "output_type": "execute_result"
    }
   ],
   "source": [
    "slice = a[:5]\n",
    "slice # mene firs five elements slice out kar diya "
   ]
  },
  {
   "cell_type": "code",
   "execution_count": 77,
   "id": "a9f15911-2d4e-446b-a726-911fbf30920e",
   "metadata": {},
   "outputs": [
    {
     "data": {
      "text/plain": [
       "array([ 1,  4,  9, 16, 25])"
      ]
     },
     "execution_count": 77,
     "metadata": {},
     "output_type": "execute_result"
    }
   ],
   "source": [
    "slice = slice **2 # yahan pe mene broadcasting perform ki , sabko square kar diya \n",
    "slice"
   ]
  },
  {
   "cell_type": "code",
   "execution_count": 78,
   "id": "9d7377fa-e131-4903-8feb-9edf1e2d8568",
   "metadata": {},
   "outputs": [
    {
     "data": {
      "text/plain": [
       "array([ 1,  2,  3,  4,  5,  6,  7,  8,  9, 10, 11, 12, 13, 14, 15, 16, 17,\n",
       "       18, 19, 20])"
      ]
     },
     "execution_count": 78,
     "metadata": {},
     "output_type": "execute_result"
    }
   ],
   "source": [
    "a # ab jo mene first 5 elements ko square kiya tha toh kya usse mera original array bhi modify hua? \n",
    "# nahi na issi ko kehte hai shallow copy , Deep copy means performing the operation and modifiying the original data source"
   ]
  },
  {
   "cell_type": "code",
   "execution_count": 81,
   "id": "a7a6b303-df6e-4ecf-8149-561b4f870a18",
   "metadata": {},
   "outputs": [
    {
     "name": "stdout",
     "output_type": "stream",
     "text": [
      "[99  2  3  4  5  6  7  8  9 10 11 12 13 14 15 16 17 18 19 20]\n",
      "[99  2  3  4  5  6  7  8  9 10 11 12 13 14 15 16 17 18 19 20]\n"
     ]
    }
   ],
   "source": [
    "b = a # ek mene new array banaya b naam se and usko a ke values de diya\n",
    "b[0] = 99 \n",
    "print(b) # now the first element of b becomes 99 , what do you think , a change hua hoga kya ?? lets see \n",
    "print(a)  # ji haan , change ho gaya , THis is Deep copy "
   ]
  },
  {
   "cell_type": "markdown",
   "id": "53e879b6-a968-47bd-a51d-5497557a0518",
   "metadata": {},
   "source": [
    "### Matrix Operations "
   ]
  },
  {
   "cell_type": "code",
   "execution_count": 84,
   "id": "2bad71ee-3d9f-48cc-b63b-9bbc15f23a78",
   "metadata": {},
   "outputs": [],
   "source": [
    "A = np.array([[1,2],[3,4]])\n",
    "B = np.array([[5,6],[7,8]])"
   ]
  },
  {
   "cell_type": "code",
   "execution_count": 85,
   "id": "6737b1ed-7edd-401b-93fd-8c276b4473be",
   "metadata": {},
   "outputs": [
    {
     "data": {
      "text/plain": [
       "array([[ 5, 12],\n",
       "       [21, 32]])"
      ]
     },
     "execution_count": 85,
     "metadata": {},
     "output_type": "execute_result"
    }
   ],
   "source": [
    "A * B # this is not how matrix multiplications works"
   ]
  },
  {
   "cell_type": "code",
   "execution_count": 87,
   "id": "e58d8ba8-f1ae-4a6a-b6ec-0c9c9aba0352",
   "metadata": {},
   "outputs": [
    {
     "data": {
      "text/plain": [
       "array([[19, 22],\n",
       "       [43, 50]])"
      ]
     },
     "execution_count": 87,
     "metadata": {},
     "output_type": "execute_result"
    }
   ],
   "source": [
    "A @ B # this is correct matrix multiplications"
   ]
  },
  {
   "cell_type": "code",
   "execution_count": 89,
   "id": "efab1cd6-bcbb-4e19-8de3-4d9f2dff5ff8",
   "metadata": {},
   "outputs": [
    {
     "data": {
      "text/plain": [
       "array([[19, 22],\n",
       "       [43, 50]])"
      ]
     },
     "execution_count": 89,
     "metadata": {},
     "output_type": "execute_result"
    }
   ],
   "source": [
    "np.dot(A,B) # another way of multiplying matrix"
   ]
  },
  {
   "cell_type": "code",
   "execution_count": 90,
   "id": "909f0c79-be6e-4e2f-93a4-877219898505",
   "metadata": {},
   "outputs": [
    {
     "data": {
      "text/plain": [
       "array([[1, 3],\n",
       "       [2, 4]])"
      ]
     },
     "execution_count": 90,
     "metadata": {},
     "output_type": "execute_result"
    }
   ],
   "source": [
    "A.T"
   ]
  },
  {
   "cell_type": "markdown",
   "id": "41f2b4ca-a130-494a-b8c3-8de856adefc4",
   "metadata": {},
   "source": [
    "### Stacking of array\n",
    "#### stacking means arrays ko jodna ,Example = 2 alag alag 1D arrays ko milakar single 2D array bana sakte hai na "
   ]
  },
  {
   "cell_type": "code",
   "execution_count": 91,
   "id": "e9bef3a5-c4f0-4757-9cbc-80af79cb4dae",
   "metadata": {},
   "outputs": [],
   "source": [
    "a = np.array([1,2,3,4])\n",
    "b = np.array([5,6,7,8])"
   ]
  },
  {
   "cell_type": "code",
   "execution_count": 92,
   "id": "cc61bee4-051b-41da-a5ee-d76b722d0f90",
   "metadata": {},
   "outputs": [
    {
     "data": {
      "text/plain": [
       "array([[1, 2, 3, 4],\n",
       "       [5, 6, 7, 8]])"
      ]
     },
     "execution_count": 92,
     "metadata": {},
     "output_type": "execute_result"
    }
   ],
   "source": [
    "np.vstack((a,b)) # this is make vertical stack , row ke niche row add karta jaaye and make 2D array"
   ]
  },
  {
   "cell_type": "code",
   "execution_count": 93,
   "id": "1d276fc1-9d43-4676-bc61-b227d1fb6e0c",
   "metadata": {},
   "outputs": [
    {
     "data": {
      "text/plain": [
       "array([1, 2, 3, 4, 5, 6, 7, 8])"
      ]
     },
     "execution_count": 93,
     "metadata": {},
     "output_type": "execute_result"
    }
   ],
   "source": [
    "np.hstack((a,b)) # horizontally stack kar dega"
   ]
  },
  {
   "cell_type": "code",
   "execution_count": 95,
   "id": "ae2b452d-224d-4ecf-9185-5e84ff8cf918",
   "metadata": {},
   "outputs": [
    {
     "data": {
      "text/plain": [
       "array([[1, 5],\n",
       "       [2, 6],\n",
       "       [3, 7],\n",
       "       [4, 8]])"
      ]
     },
     "execution_count": 95,
     "metadata": {},
     "output_type": "execute_result"
    }
   ],
   "source": [
    "np.column_stack((a,b)) # upar humne stack kiya toh 1D array hi bana but i want a 2D array "
   ]
  },
  {
   "cell_type": "markdown",
   "id": "306f3920-7ca5-46c9-99f8-6ba8a0c77ef3",
   "metadata": {},
   "source": [
    "### Spliting of arrays"
   ]
  },
  {
   "cell_type": "code",
   "execution_count": 99,
   "id": "9e56819f-ed24-4755-a09c-a5c38e43f5f3",
   "metadata": {},
   "outputs": [
    {
     "data": {
      "text/plain": [
       "array([[ 0,  1,  2,  3],\n",
       "       [ 4,  5,  6,  7],\n",
       "       [ 8,  9, 10, 11],\n",
       "       [12, 13, 14, 15]])"
      ]
     },
     "execution_count": 99,
     "metadata": {},
     "output_type": "execute_result"
    }
   ],
   "source": [
    "c = np.arange(16).reshape(4,4)\n",
    "c"
   ]
  },
  {
   "cell_type": "code",
   "execution_count": 98,
   "id": "a9f6046d-27fa-4235-a029-45095fea03fa",
   "metadata": {},
   "outputs": [
    {
     "data": {
      "text/plain": [
       "[array([[ 0,  1],\n",
       "        [ 4,  5],\n",
       "        [ 8,  9],\n",
       "        [12, 13]]),\n",
       " array([[ 2,  3],\n",
       "        [ 6,  7],\n",
       "        [10, 11],\n",
       "        [14, 15]])]"
      ]
     },
     "execution_count": 98,
     "metadata": {},
     "output_type": "execute_result"
    }
   ],
   "source": [
    "np.hsplit(c,2) # this is split array into two equal havles horizontally\n",
    "np.hsplit(c,3) # this will give the because 4 columns ko 3 parts mein kaise split karoge"
   ]
  },
  {
   "cell_type": "code",
   "execution_count": 100,
   "id": "13a3f41d-cabf-4d46-ada7-20c5d7502c61",
   "metadata": {},
   "outputs": [
    {
     "data": {
      "text/plain": [
       "[array([[0, 1, 2, 3],\n",
       "        [4, 5, 6, 7]]),\n",
       " array([[ 8,  9, 10, 11],\n",
       "        [12, 13, 14, 15]])]"
      ]
     },
     "execution_count": 100,
     "metadata": {},
     "output_type": "execute_result"
    }
   ],
   "source": [
    "np.vsplit(c,2)"
   ]
  }
 ],
 "metadata": {
  "kernelspec": {
   "display_name": "Python 3 (ipykernel)",
   "language": "python",
   "name": "python3"
  },
  "language_info": {
   "codemirror_mode": {
    "name": "ipython",
    "version": 3
   },
   "file_extension": ".py",
   "mimetype": "text/x-python",
   "name": "python",
   "nbconvert_exporter": "python",
   "pygments_lexer": "ipython3",
   "version": "3.12.2"
  }
 },
 "nbformat": 4,
 "nbformat_minor": 5
}
